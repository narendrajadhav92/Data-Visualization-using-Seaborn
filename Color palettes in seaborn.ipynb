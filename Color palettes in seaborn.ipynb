{
 "cells": [
  {
   "cell_type": "code",
   "execution_count": 1,
   "id": "fdd9a5ac",
   "metadata": {},
   "outputs": [],
   "source": [
    "import numpy as np\n",
    "import pandas as pd\n",
    "import seaborn as sns\n",
    "import matplotlib.pyplot as plt\n",
    "%matplotlib inline\n",
    "import warnings\n",
    "warnings.filterwarnings('ignore')\n"
   ]
  },
  {
   "cell_type": "code",
   "execution_count": 2,
   "id": "8418dd25",
   "metadata": {},
   "outputs": [
    {
     "data": {
      "text/html": [
       "<svg  width=\"330\" height=\"55\"><rect x=\"0\" y=\"0\" width=\"55\" height=\"55\" style=\"fill:#edcde3;stroke-width:2;stroke:rgb(255,255,255)\"/><rect x=\"55\" y=\"0\" width=\"55\" height=\"55\" style=\"fill:#bcaadd;stroke-width:2;stroke:rgb(255,255,255)\"/><rect x=\"110\" y=\"0\" width=\"55\" height=\"55\" style=\"fill:#7498b9;stroke-width:2;stroke:rgb(255,255,255)\"/><rect x=\"165\" y=\"0\" width=\"55\" height=\"55\" style=\"fill:#418473;stroke-width:2;stroke:rgb(255,255,255)\"/><rect x=\"220\" y=\"0\" width=\"55\" height=\"55\" style=\"fill:#325c2c;stroke-width:2;stroke:rgb(255,255,255)\"/><rect x=\"275\" y=\"0\" width=\"55\" height=\"55\" style=\"fill:#2a280d;stroke-width:2;stroke:rgb(255,255,255)\"/></svg>"
      ],
      "text/plain": [
       "[[0.9307948001350285, 0.8029130159234408, 0.8911216671567826],\n",
       " [0.737333181898739, 0.6666055222041235, 0.8664258012252217],\n",
       " [0.455663148750721, 0.5966098051229507, 0.7266245610359838],\n",
       " [0.25585489615960155, 0.5172884891090325, 0.4492335993667448],\n",
       " [0.1960327047352463, 0.35970292349290595, 0.17419425278464357],\n",
       " [0.1665180288411722, 0.15866598396987155, 0.04955658052765155]]"
      ]
     },
     "execution_count": 2,
     "metadata": {},
     "output_type": "execute_result"
    }
   ],
   "source": [
    "sns.cubehelix_palette(start = 1, rot = 1)"
   ]
  },
  {
   "cell_type": "code",
   "execution_count": 3,
   "id": "d39068af",
   "metadata": {},
   "outputs": [
    {
     "data": {
      "text/html": [
       "<svg  width=\"1100\" height=\"55\"><rect x=\"0\" y=\"0\" width=\"55\" height=\"55\" style=\"fill:#cfb2e0;stroke-width:2;stroke:rgb(255,255,255)\"/><rect x=\"55\" y=\"0\" width=\"55\" height=\"55\" style=\"fill:#c7aedf;stroke-width:2;stroke:rgb(255,255,255)\"/><rect x=\"110\" y=\"0\" width=\"55\" height=\"55\" style=\"fill:#beabdd;stroke-width:2;stroke:rgb(255,255,255)\"/><rect x=\"165\" y=\"0\" width=\"55\" height=\"55\" style=\"fill:#b4a7db;stroke-width:2;stroke:rgb(255,255,255)\"/><rect x=\"220\" y=\"0\" width=\"55\" height=\"55\" style=\"fill:#ada5d9;stroke-width:2;stroke:rgb(255,255,255)\"/><rect x=\"275\" y=\"0\" width=\"55\" height=\"55\" style=\"fill:#a3a2d5;stroke-width:2;stroke:rgb(255,255,255)\"/><rect x=\"330\" y=\"0\" width=\"55\" height=\"55\" style=\"fill:#98a0d1;stroke-width:2;stroke:rgb(255,255,255)\"/><rect x=\"385\" y=\"0\" width=\"55\" height=\"55\" style=\"fill:#8e9ecb;stroke-width:2;stroke:rgb(255,255,255)\"/><rect x=\"440\" y=\"0\" width=\"55\" height=\"55\" style=\"fill:#869cc6;stroke-width:2;stroke:rgb(255,255,255)\"/><rect x=\"495\" y=\"0\" width=\"55\" height=\"55\" style=\"fill:#7c9abf;stroke-width:2;stroke:rgb(255,255,255)\"/><rect x=\"550\" y=\"0\" width=\"55\" height=\"55\" style=\"fill:#7298b8;stroke-width:2;stroke:rgb(255,255,255)\"/><rect x=\"605\" y=\"0\" width=\"55\" height=\"55\" style=\"fill:#6b96b1;stroke-width:2;stroke:rgb(255,255,255)\"/><rect x=\"660\" y=\"0\" width=\"55\" height=\"55\" style=\"fill:#6294a8;stroke-width:2;stroke:rgb(255,255,255)\"/><rect x=\"715\" y=\"0\" width=\"55\" height=\"55\" style=\"fill:#5a919e;stroke-width:2;stroke:rgb(255,255,255)\"/><rect x=\"770\" y=\"0\" width=\"55\" height=\"55\" style=\"fill:#538e93;stroke-width:2;stroke:rgb(255,255,255)\"/><rect x=\"825\" y=\"0\" width=\"55\" height=\"55\" style=\"fill:#4d8c8b;stroke-width:2;stroke:rgb(255,255,255)\"/><rect x=\"880\" y=\"0\" width=\"55\" height=\"55\" style=\"fill:#478980;stroke-width:2;stroke:rgb(255,255,255)\"/><rect x=\"935\" y=\"0\" width=\"55\" height=\"55\" style=\"fill:#428575;stroke-width:2;stroke:rgb(255,255,255)\"/><rect x=\"990\" y=\"0\" width=\"55\" height=\"55\" style=\"fill:#3f816c;stroke-width:2;stroke:rgb(255,255,255)\"/><rect x=\"1045\" y=\"0\" width=\"55\" height=\"55\" style=\"fill:#3b7d61;stroke-width:2;stroke:rgb(255,255,255)\"/></svg>"
      ],
      "text/plain": [
       "[[0.8119066206230451, 0.699512742745189, 0.8786983192489379],\n",
       " [0.779434061097783, 0.6836071044596846, 0.8743187493490867],\n",
       " [0.7445633058527953, 0.6692873261190314, 0.8679737025305014],\n",
       " [0.7076690053970263, 0.656451496582831, 0.859188019851105],\n",
       " [0.676987827751317, 0.6471540239923206, 0.8501296185672796],\n",
       " [0.6375823977895183, 0.6365922359800508, 0.8359952837510998],\n",
       " [0.5974852651924089, 0.6270061260413425, 0.818514202165648],\n",
       " [0.5572298440222146, 0.6181517369504835, 0.7975401103536757],\n",
       " [0.5252742105545506, 0.6114169881034937, 0.778211907518538],\n",
       " [0.4860872720259257, 0.6032001626748097, 0.7509040861229701],\n",
       " [0.44821820833599924, 0.594940781759168, 0.7202303060305983],\n",
       " [0.4191927239383489, 0.5881110493942127, 0.6934202296075378],\n",
       " [0.38486041024530626, 0.5790630396753349, 0.6573306886958574],\n",
       " [0.35304338578915706, 0.569202327581046, 0.6187403179299122],\n",
       " [0.32404883741827595, 0.5582879515231783, 0.578103770944982],\n",
       " [0.3030417565412246, 0.5486544554491949, 0.5444637283539555],\n",
       " [0.279646393831536, 0.5353337765987676, 0.5014632487222936],\n",
       " [0.2594957248446452, 0.5204594498710954, 0.45794683508806333],\n",
       " [0.24570172603986265, 0.5073722227668929, 0.4231593710578887],\n",
       " [0.2312828968499689, 0.48947916994159585, 0.38020207491334873]]"
      ]
     },
     "execution_count": 3,
     "metadata": {},
     "output_type": "execute_result"
    }
   ],
   "source": [
    "sns.cubehelix_palette(start = 1, rot = 1, light=0.75, dark = 0.4, n_colors= 20)"
   ]
  },
  {
   "cell_type": "code",
   "execution_count": 4,
   "id": "4d931db7",
   "metadata": {},
   "outputs": [
    {
     "data": {
      "text/html": [
       "<svg  width=\"1100\" height=\"55\"><rect x=\"0\" y=\"0\" width=\"55\" height=\"55\" style=\"fill:#cfb2e0;stroke-width:2;stroke:rgb(255,255,255)\"/><rect x=\"55\" y=\"0\" width=\"55\" height=\"55\" style=\"fill:#c7aedf;stroke-width:2;stroke:rgb(255,255,255)\"/><rect x=\"110\" y=\"0\" width=\"55\" height=\"55\" style=\"fill:#beabdd;stroke-width:2;stroke:rgb(255,255,255)\"/><rect x=\"165\" y=\"0\" width=\"55\" height=\"55\" style=\"fill:#b4a7db;stroke-width:2;stroke:rgb(255,255,255)\"/><rect x=\"220\" y=\"0\" width=\"55\" height=\"55\" style=\"fill:#ada5d9;stroke-width:2;stroke:rgb(255,255,255)\"/><rect x=\"275\" y=\"0\" width=\"55\" height=\"55\" style=\"fill:#a3a2d5;stroke-width:2;stroke:rgb(255,255,255)\"/><rect x=\"330\" y=\"0\" width=\"55\" height=\"55\" style=\"fill:#98a0d1;stroke-width:2;stroke:rgb(255,255,255)\"/><rect x=\"385\" y=\"0\" width=\"55\" height=\"55\" style=\"fill:#8e9ecb;stroke-width:2;stroke:rgb(255,255,255)\"/><rect x=\"440\" y=\"0\" width=\"55\" height=\"55\" style=\"fill:#869cc6;stroke-width:2;stroke:rgb(255,255,255)\"/><rect x=\"495\" y=\"0\" width=\"55\" height=\"55\" style=\"fill:#7c9abf;stroke-width:2;stroke:rgb(255,255,255)\"/><rect x=\"550\" y=\"0\" width=\"55\" height=\"55\" style=\"fill:#7298b8;stroke-width:2;stroke:rgb(255,255,255)\"/><rect x=\"605\" y=\"0\" width=\"55\" height=\"55\" style=\"fill:#6b96b1;stroke-width:2;stroke:rgb(255,255,255)\"/><rect x=\"660\" y=\"0\" width=\"55\" height=\"55\" style=\"fill:#6294a8;stroke-width:2;stroke:rgb(255,255,255)\"/><rect x=\"715\" y=\"0\" width=\"55\" height=\"55\" style=\"fill:#5a919e;stroke-width:2;stroke:rgb(255,255,255)\"/><rect x=\"770\" y=\"0\" width=\"55\" height=\"55\" style=\"fill:#538e93;stroke-width:2;stroke:rgb(255,255,255)\"/><rect x=\"825\" y=\"0\" width=\"55\" height=\"55\" style=\"fill:#4d8c8b;stroke-width:2;stroke:rgb(255,255,255)\"/><rect x=\"880\" y=\"0\" width=\"55\" height=\"55\" style=\"fill:#478980;stroke-width:2;stroke:rgb(255,255,255)\"/><rect x=\"935\" y=\"0\" width=\"55\" height=\"55\" style=\"fill:#428575;stroke-width:2;stroke:rgb(255,255,255)\"/><rect x=\"990\" y=\"0\" width=\"55\" height=\"55\" style=\"fill:#3f816c;stroke-width:2;stroke:rgb(255,255,255)\"/><rect x=\"1045\" y=\"0\" width=\"55\" height=\"55\" style=\"fill:#3b7d61;stroke-width:2;stroke:rgb(255,255,255)\"/></svg>"
      ],
      "text/plain": [
       "[(0.8119066206230451, 0.699512742745189, 0.8786983192489379),\n",
       " (0.779434061097783, 0.6836071044596846, 0.8743187493490867),\n",
       " (0.7445633058527953, 0.6692873261190314, 0.8679737025305014),\n",
       " (0.7076690053970263, 0.656451496582831, 0.859188019851105),\n",
       " (0.676987827751317, 0.6471540239923206, 0.8501296185672796),\n",
       " (0.6375823977895183, 0.6365922359800508, 0.8359952837510998),\n",
       " (0.5974852651924089, 0.6270061260413425, 0.818514202165648),\n",
       " (0.5572298440222146, 0.6181517369504835, 0.7975401103536757),\n",
       " (0.5252742105545506, 0.6114169881034937, 0.778211907518538),\n",
       " (0.4860872720259257, 0.6032001626748097, 0.7509040861229701),\n",
       " (0.44821820833599924, 0.594940781759168, 0.7202303060305983),\n",
       " (0.4191927239383489, 0.5881110493942127, 0.6934202296075378),\n",
       " (0.38486041024530626, 0.5790630396753349, 0.6573306886958574),\n",
       " (0.35304338578915706, 0.569202327581046, 0.6187403179299122),\n",
       " (0.32404883741827595, 0.5582879515231783, 0.578103770944982),\n",
       " (0.3030417565412246, 0.5486544554491949, 0.5444637283539555),\n",
       " (0.279646393831536, 0.5353337765987676, 0.5014632487222936),\n",
       " (0.2594957248446452, 0.5204594498710954, 0.45794683508806333),\n",
       " (0.24570172603986265, 0.5073722227668929, 0.4231593710578887),\n",
       " (0.2312828968499689, 0.48947916994159585, 0.38020207491334873)]"
      ]
     },
     "execution_count": 4,
     "metadata": {},
     "output_type": "execute_result"
    }
   ],
   "source": [
    "sns.color_palette('ch:1, r  = 1, l = 0.75, d= 0.4', 20)"
   ]
  },
  {
   "cell_type": "code",
   "execution_count": 5,
   "id": "8a92d51e",
   "metadata": {},
   "outputs": [
    {
     "data": {
      "text/html": [
       "<svg  width=\"330\" height=\"55\"><rect x=\"0\" y=\"0\" width=\"55\" height=\"55\" style=\"fill:#72a69f;stroke-width:2;stroke:rgb(255,255,255)\"/><rect x=\"55\" y=\"0\" width=\"55\" height=\"55\" style=\"fill:#77a0c5;stroke-width:2;stroke:rgb(255,255,255)\"/><rect x=\"110\" y=\"0\" width=\"55\" height=\"55\" style=\"fill:#c187ce;stroke-width:2;stroke:rgb(255,255,255)\"/><rect x=\"165\" y=\"0\" width=\"55\" height=\"55\" style=\"fill:#d58696;stroke-width:2;stroke:rgb(255,255,255)\"/><rect x=\"220\" y=\"0\" width=\"55\" height=\"55\" style=\"fill:#b2996e;stroke-width:2;stroke:rgb(255,255,255)\"/><rect x=\"275\" y=\"0\" width=\"55\" height=\"55\" style=\"fill:#7ca76d;stroke-width:2;stroke:rgb(255,255,255)\"/></svg>"
      ],
      "text/plain": [
       "[(0.4463988251366258, 0.6499350336346716, 0.6224519553564909),\n",
       " (0.4666128871991542, 0.6290359244143438, 0.7726513793555879),\n",
       " (0.7564849085426313, 0.5313327587530455, 0.8069971335376381),\n",
       " (0.833871014753113, 0.5241026143302947, 0.5869195249211475),\n",
       " (0.6987498828214652, 0.5981924262763995, 0.4298470826785417),\n",
       " (0.4877595847039437, 0.6568277168358624, 0.4275085410078019)]"
      ]
     },
     "execution_count": 5,
     "metadata": {},
     "output_type": "execute_result"
    }
   ],
   "source": [
    "sns.husl_palette(h = 0.5, s= 0.5)"
   ]
  },
  {
   "cell_type": "code",
   "execution_count": 6,
   "id": "62b33f6f",
   "metadata": {},
   "outputs": [
    {
     "data": {
      "text/html": [
       "<svg  width=\"110\" height=\"55\"><rect x=\"0\" y=\"0\" width=\"55\" height=\"55\" style=\"fill:#fe019a;stroke-width:2;stroke:rgb(255,255,255)\"/><rect x=\"55\" y=\"0\" width=\"55\" height=\"55\" style=\"fill:#3b638c;stroke-width:2;stroke:rgb(255,255,255)\"/></svg>"
      ],
      "text/plain": [
       "[(0.996078431372549, 0.00392156862745098, 0.6039215686274509),\n",
       " (0.23137254901960785, 0.38823529411764707, 0.5490196078431373)]"
      ]
     },
     "execution_count": 6,
     "metadata": {},
     "output_type": "execute_result"
    }
   ],
   "source": [
    "sns.xkcd_palette(['neon pink', 'denim'])"
   ]
  },
  {
   "cell_type": "code",
   "execution_count": 7,
   "id": "e1eedd9f",
   "metadata": {},
   "outputs": [
    {
     "data": {
      "text/html": [
       "<svg  width=\"55\" height=\"55\"><rect x=\"0\" y=\"0\" width=\"55\" height=\"55\" style=\"fill:#ff0000;stroke-width:2;stroke:rgb(255,255,255)\"/></svg>"
      ],
      "text/plain": [
       "[(1.0, 0.0, 0.0)]"
      ]
     },
     "execution_count": 7,
     "metadata": {},
     "output_type": "execute_result"
    }
   ],
   "source": [
    "sns.color_palette(['red'])"
   ]
  },
  {
   "cell_type": "code",
   "execution_count": 10,
   "id": "02aabf16",
   "metadata": {},
   "outputs": [
    {
     "data": {
      "application/vnd.jupyter.widget-view+json": {
       "model_id": "22ba1f8975034054897a372ad9effded",
       "version_major": 2,
       "version_minor": 0
      },
      "text/plain": [
       "interactive(children=(Dropdown(description='name', options=('RdBu', 'RdGy', 'PRGn', 'PiYG', 'BrBG', 'RdYlBu', …"
      ]
     },
     "metadata": {},
     "output_type": "display_data"
    },
    {
     "data": {
      "text/plain": [
       "[(0.6922722029988467, 0.09227220299884642, 0.16770472895040373),\n",
       " (0.8392156862745099, 0.376470588235294, 0.3019607843137253),\n",
       " (0.9545559400230679, 0.641753171856978, 0.5057285659361783),\n",
       " (0.9921568627450982, 0.8588235294117645, 0.7803921568627449),\n",
       " (0.9657054978854286, 0.9672433679354094, 0.9680891964628989),\n",
       " (0.8196078431372551, 0.8980392156862745, 0.9411764705882353),\n",
       " (0.5664744329104192, 0.7687043444828916, 0.8685121107266438),\n",
       " (0.26274509803921564, 0.576470588235294, 0.7647058823529411),\n",
       " (0.1272587466359093, 0.39584775086505203, 0.6687427912341407)]"
      ]
     },
     "execution_count": 10,
     "metadata": {},
     "output_type": "execute_result"
    }
   ],
   "source": [
    "sns.choose_colorbrewer_palette('diverging')"
   ]
  },
  {
   "cell_type": "code",
   "execution_count": 11,
   "id": "88547d42",
   "metadata": {},
   "outputs": [
    {
     "data": {
      "application/vnd.jupyter.widget-view+json": {
       "model_id": "a6bda9fe63764b6a99387040ade9fbaa",
       "version_major": 2,
       "version_minor": 0
      },
      "text/plain": [
       "interactive(children=(IntSlider(value=9, description='n_colors', max=16, min=2), FloatSlider(value=0.0, descri…"
      ]
     },
     "metadata": {},
     "output_type": "display_data"
    },
    {
     "data": {
      "text/plain": [
       "[[0.9312692223325372, 0.8201921796082118, 0.7971480974663592],\n",
       " [0.8888663743660877, 0.7106793139856472, 0.7158661451411206],\n",
       " [0.8314793143949643, 0.5987041921652179, 0.6530062709235388],\n",
       " [0.7588951019517731, 0.49817117746394224, 0.6058723814510268],\n",
       " [0.6672565752652589, 0.40671838146419587, 0.5620016466433286],\n",
       " [0.5529215689527474, 0.3217924564263954, 0.5093718054521851],\n",
       " [0.43082755198027817, 0.24984535814964698, 0.44393960899639856],\n",
       " [0.29794615023641036, 0.18145907625614888, 0.35317781405034754],\n",
       " [0.1750865648952205, 0.11840023306916837, 0.24215989137836502]]"
      ]
     },
     "execution_count": 11,
     "metadata": {},
     "output_type": "execute_result"
    }
   ],
   "source": [
    "sns.choose_cubehelix_palette()"
   ]
  },
  {
   "cell_type": "code",
   "execution_count": null,
   "id": "4312de06",
   "metadata": {},
   "outputs": [],
   "source": []
  }
 ],
 "metadata": {
  "kernelspec": {
   "display_name": "Python 3 (ipykernel)",
   "language": "python",
   "name": "python3"
  },
  "language_info": {
   "codemirror_mode": {
    "name": "ipython",
    "version": 3
   },
   "file_extension": ".py",
   "mimetype": "text/x-python",
   "name": "python",
   "nbconvert_exporter": "python",
   "pygments_lexer": "ipython3",
   "version": "3.9.13"
  },
  "widgets": {
   "application/vnd.jupyter.widget-state+json": {
    "state": {
     "00389f635390497b8ed9feac19aef8bd": {
      "model_module": "@jupyter-widgets/base",
      "model_module_version": "1.2.0",
      "model_name": "LayoutModel",
      "state": {}
     },
     "00844ec7bed240968cfd1c4374c36fa4": {
      "model_module": "@jupyter-widgets/controls",
      "model_module_version": "1.5.0",
      "model_name": "CheckboxModel",
      "state": {
       "description": "reverse",
       "disabled": false,
       "layout": "IPY_MODEL_0dc16e5c47154c47a9bb8ac4016f530b",
       "style": "IPY_MODEL_b7cf5f4064a042f1afb72915aeae80c8",
       "value": false
      }
     },
     "011aa1ddde474893bd19e9c883819052": {
      "model_module": "@jupyter-widgets/base",
      "model_module_version": "1.2.0",
      "model_name": "LayoutModel",
      "state": {}
     },
     "0d338d05749548739f9cf154e58a60a6": {
      "model_module": "@jupyter-widgets/base",
      "model_module_version": "1.2.0",
      "model_name": "LayoutModel",
      "state": {}
     },
     "0dc16e5c47154c47a9bb8ac4016f530b": {
      "model_module": "@jupyter-widgets/base",
      "model_module_version": "1.2.0",
      "model_name": "LayoutModel",
      "state": {}
     },
     "10d46806d30c4bc8a43b27d68f7f64e7": {
      "model_module": "@jupyter-widgets/controls",
      "model_module_version": "1.5.0",
      "model_name": "FloatSliderModel",
      "state": {
       "description": "desat",
       "layout": "IPY_MODEL_922d14993f194ff7b612b54f6026e8d9",
       "max": 1,
       "step": 0.1,
       "style": "IPY_MODEL_570a6fa291ad4a8d814793916df1406d",
       "value": 1
      }
     },
     "1b2d56c3f9b24334baa1efb8b3e2f9cd": {
      "model_module": "@jupyter-widgets/controls",
      "model_module_version": "1.5.0",
      "model_name": "FloatSliderModel",
      "state": {
       "description": "light",
       "layout": "IPY_MODEL_e515cd85cf854777a6dfdde5e4fc9cd5",
       "max": 1,
       "step": 0.1,
       "style": "IPY_MODEL_ea5fe2dc8e5445cba241bf712f5073de",
       "value": 0.85
      }
     },
     "1fe50cc178ba4b30be774d143cf56e01": {
      "model_module": "@jupyter-widgets/base",
      "model_module_version": "1.2.0",
      "model_name": "LayoutModel",
      "state": {}
     },
     "22ba1f8975034054897a372ad9effded": {
      "model_module": "@jupyter-widgets/controls",
      "model_module_version": "1.5.0",
      "model_name": "VBoxModel",
      "state": {
       "_dom_classes": [
        "widget-interact"
       ],
       "children": [
        "IPY_MODEL_aaf2aa4ad8af4865b5d4aaa9204fc482",
        "IPY_MODEL_6b1ac87dc0bc4183a0c370f2688afe4c",
        "IPY_MODEL_10d46806d30c4bc8a43b27d68f7f64e7",
        "IPY_MODEL_6117f833218a4c49837bdfb9bc5e7555",
        "IPY_MODEL_c3c032f86e3d42b8ad372bc68f6e0e6a"
       ],
       "layout": "IPY_MODEL_8b617ad5592c490b969a7afd4a23f99d"
      }
     },
     "263d9dd27a7241019b26bf57ac47c472": {
      "model_module": "@jupyter-widgets/base",
      "model_module_version": "1.2.0",
      "model_name": "LayoutModel",
      "state": {}
     },
     "26454fbc8a414734afe3bfbaa3916547": {
      "model_module": "@jupyter-widgets/controls",
      "model_module_version": "1.5.0",
      "model_name": "SliderStyleModel",
      "state": {
       "description_width": ""
      }
     },
     "265bd9ce00e4490a95b64452e1e4bed1": {
      "model_module": "@jupyter-widgets/controls",
      "model_module_version": "1.5.0",
      "model_name": "DescriptionStyleModel",
      "state": {
       "description_width": ""
      }
     },
     "2695fd37abb943e6aa987fa4011c8573": {
      "model_module": "@jupyter-widgets/output",
      "model_module_version": "1.0.0",
      "model_name": "OutputModel",
      "state": {
       "layout": "IPY_MODEL_728ce9885e214827b4429ed5a0dd8897",
       "outputs": [
        {
         "data": {
          "image/png": "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\n",
          "text/plain": "<Figure size 1600x100 with 1 Axes>"
         },
         "metadata": {},
         "output_type": "display_data"
        }
       ]
      }
     },
     "2a640f7b7d7646149e7922d440cbeac0": {
      "model_module": "@jupyter-widgets/controls",
      "model_module_version": "1.5.0",
      "model_name": "FloatSliderModel",
      "state": {
       "description": "dark",
       "layout": "IPY_MODEL_a5a8683457a2461d9f2fc95a02fac542",
       "max": 1,
       "step": 0.1,
       "style": "IPY_MODEL_35bba16464bf4baeb9233a0766afdd1d",
       "value": 0.15
      }
     },
     "2e2f5450e6ae43c7b93df5b5565134c3": {
      "model_module": "@jupyter-widgets/controls",
      "model_module_version": "1.5.0",
      "model_name": "CheckboxModel",
      "state": {
       "description": "reverse",
       "disabled": false,
       "layout": "IPY_MODEL_e5b028419d6a4904a6263628f3cfa505",
       "style": "IPY_MODEL_82cf11b526cc4eb981f020442c7d823b",
       "value": false
      }
     },
     "35bba16464bf4baeb9233a0766afdd1d": {
      "model_module": "@jupyter-widgets/controls",
      "model_module_version": "1.5.0",
      "model_name": "SliderStyleModel",
      "state": {
       "description_width": ""
      }
     },
     "37d8e41fcb194561b5d1611266fa123e": {
      "model_module": "@jupyter-widgets/base",
      "model_module_version": "1.2.0",
      "model_name": "LayoutModel",
      "state": {}
     },
     "3838971b88504f47bbf68721bccfef55": {
      "model_module": "@jupyter-widgets/base",
      "model_module_version": "1.2.0",
      "model_name": "LayoutModel",
      "state": {}
     },
     "38912ed2d12d48e490b90aaef5946bb9": {
      "model_module": "@jupyter-widgets/controls",
      "model_module_version": "1.5.0",
      "model_name": "SliderStyleModel",
      "state": {
       "description_width": ""
      }
     },
     "3cdda2e1a43746d7a71b3fb57ec2dbe4": {
      "model_module": "@jupyter-widgets/base",
      "model_module_version": "1.2.0",
      "model_name": "LayoutModel",
      "state": {}
     },
     "4091b2b2876d4279a7b1d5078f9f1527": {
      "model_module": "@jupyter-widgets/controls",
      "model_module_version": "1.5.0",
      "model_name": "SliderStyleModel",
      "state": {
       "description_width": ""
      }
     },
     "414cdf2e778b4b66b0aa1986769676dd": {
      "model_module": "@jupyter-widgets/base",
      "model_module_version": "1.2.0",
      "model_name": "LayoutModel",
      "state": {}
     },
     "418bac49a8c942faa31e945a0aada4c1": {
      "model_module": "@jupyter-widgets/base",
      "model_module_version": "1.2.0",
      "model_name": "LayoutModel",
      "state": {}
     },
     "43a2d85a06374bd8b2baaf2642c6f834": {
      "model_module": "@jupyter-widgets/controls",
      "model_module_version": "1.5.0",
      "model_name": "SliderStyleModel",
      "state": {
       "description_width": ""
      }
     },
     "450f8378dd7649a2af875a750cc3baff": {
      "model_module": "@jupyter-widgets/controls",
      "model_module_version": "1.5.0",
      "model_name": "FloatSliderModel",
      "state": {
       "description": "gamma",
       "layout": "IPY_MODEL_47b7e7d03276443aa6b16c5ab2b1563e",
       "max": 5,
       "step": 0.1,
       "style": "IPY_MODEL_d8b0710e1bf148c2b946714ba47d11ce",
       "value": 1
      }
     },
     "47b7e7d03276443aa6b16c5ab2b1563e": {
      "model_module": "@jupyter-widgets/base",
      "model_module_version": "1.2.0",
      "model_name": "LayoutModel",
      "state": {}
     },
     "4837e143e8f14edba4227722e212bd81": {
      "model_module": "@jupyter-widgets/controls",
      "model_module_version": "1.5.0",
      "model_name": "FloatSliderModel",
      "state": {
       "description": "rot",
       "layout": "IPY_MODEL_418bac49a8c942faa31e945a0aada4c1",
       "max": 1,
       "min": -1,
       "step": 0.1,
       "style": "IPY_MODEL_38912ed2d12d48e490b90aaef5946bb9",
       "value": 0.4
      }
     },
     "4bd49d5901294396920da3dbceb9a860": {
      "model_module": "@jupyter-widgets/base",
      "model_module_version": "1.2.0",
      "model_name": "LayoutModel",
      "state": {}
     },
     "4e65b22c8aaf4a24af11b4cc82fb3443": {
      "model_module": "@jupyter-widgets/controls",
      "model_module_version": "1.5.0",
      "model_name": "SliderStyleModel",
      "state": {
       "description_width": ""
      }
     },
     "5193b6d6e5c64dd09e78ece3324ca1ce": {
      "model_module": "@jupyter-widgets/output",
      "model_module_version": "1.0.0",
      "model_name": "OutputModel",
      "state": {
       "layout": "IPY_MODEL_4bd49d5901294396920da3dbceb9a860",
       "outputs": [
        {
         "data": {
          "image/png": "iVBORw0KGgoAAAANSUhEUgAAAtIAAABlCAYAAABgOgROAAAAOXRFWHRTb2Z0d2FyZQBNYXRwbG90bGliIHZlcnNpb24zLjUuMiwgaHR0cHM6Ly9tYXRwbG90bGliLm9yZy8qNh9FAAAACXBIWXMAAA9hAAAPYQGoP6dpAAAD4UlEQVR4nO3cT05bVxjG4WMDcRtiW2Jo4S10GR11T2wqo2yhsww7qYSRpbQlSrjF/PftIKJSJw73FdXJCc8zts2nFyH9ZNmM+r7vCwAAMMi49gEAANAiIQ0AAAEhDQAAASENAAABIQ0AAAEhDQAAASENAACB/fSJ2+22rNfrMp1Oy2g0es6bAACgir7vS9d1ZbFYlPF493vOcUiv1+uyXC7TpwMAwDdrtVqV4+PjnY+JQ3o6nZZSSnn/7m2ZHh6mL/PibNbntU9oUnf2qfYJzfn44bL2CU3648Om9glNOvvrovYJzVl9/Fz7hCb9/unP2ic0Z/X5rPYJTXnY3pff1r/+27q7xCH9+HGO6eFhmb15k77Mi7P3+qr2CU3qf7ytfUJzbibb2ic06fUruyV+OPA3OtSr/evaJzTpYO+g9gnN2RvHufeiPeWjy75sCAAAASENAAABIQ0AAAEhDQAAASENAAABIQ0AAAEhDQAAASENAAABIQ0AAAEhDQAAASENAAABIQ0AAAEhDQAAASENAAABIQ0AAAEhDQAAASENAAABIQ0AAAEhDQAAASENAAABIQ0AAAEhDQAAASENAAABIQ0AAAEhDQAAASENAAABIQ0AAAEhDQAAASENAAABIQ0AAAEhDQAAASENAAABIQ0AAAEhDQAAASENAAABIQ0AAAEhDQAAASENAAABIQ0AAAEhDQAAASENAAABIQ0AAAEhDQAAASENAAABIQ0AAAEhDQAAASENAAABIQ0AAAEhDQAAASENAAABIQ0AAAEhDQAAASENAAABIQ0AAAEhDQAAASENAAABIQ0AAAEhDQAAASENAAABIQ0AAAEhDQAAASENAAABIQ0AAAEhDQAAASENAAABIQ0AAAEhDQAAASENAAABIQ0AAAEhDQAAASENAAABIQ0AAAEhDQAAgf30iX3fl1JK6S4vn+2Yl2Cz2dQ+oUl/X9ltqMubq9onNGlze137hCZd39ltqNv7m9onNOnu4a72Cc152N7XPqEpj3s9tu4ucUifn5+XUkr56edf0pcAAIBvUtd1ZT6f73xMHNJHR0ellFJOT0+/+kP44uLioiyXy7JarcpsNqt9TjPsNpzNMnYbzmYZuw1ns4zdhuv7vnRdVxaLxVcfG4f0ePzl49Xz+dwvZqDZbGazgN2Gs1nGbsPZLGO34WyWsdswT32T2JcNAQAgIKQBACAQh/RkMiknJydlMpk85z3fNZtl7DaczTJ2G85mGbsNZ7OM3f5fo/4p/9sDAAD4Dx/tAACAgJAGAICAkAYAgICQBgCAgJAGAICAkAYAgICQBgCAgJAGAIDAP20WtorWmMPSAAAAAElFTkSuQmCC\n",
          "text/plain": "<Figure size 900x100 with 1 Axes>"
         },
         "metadata": {},
         "output_type": "display_data"
        }
       ]
      }
     },
     "529d97028ed14eb69c5d6d9b5a0dc2db": {
      "model_module": "@jupyter-widgets/controls",
      "model_module_version": "1.5.0",
      "model_name": "DescriptionStyleModel",
      "state": {
       "description_width": ""
      }
     },
     "52b13f21973d4b90b39cb9fcdc5eb2aa": {
      "model_module": "@jupyter-widgets/base",
      "model_module_version": "1.2.0",
      "model_name": "LayoutModel",
      "state": {}
     },
     "545dc602872240c9b07f7c799a284cc9": {
      "model_module": "@jupyter-widgets/controls",
      "model_module_version": "1.5.0",
      "model_name": "SliderStyleModel",
      "state": {
       "description_width": ""
      }
     },
     "570a6fa291ad4a8d814793916df1406d": {
      "model_module": "@jupyter-widgets/controls",
      "model_module_version": "1.5.0",
      "model_name": "SliderStyleModel",
      "state": {
       "description_width": ""
      }
     },
     "5c73be76dcff47509679abf0aeb7024e": {
      "model_module": "@jupyter-widgets/controls",
      "model_module_version": "1.5.0",
      "model_name": "DropdownModel",
      "state": {
       "_options_labels": [
        "regular",
        "reverse"
       ],
       "description": "variant",
       "index": 1,
       "layout": "IPY_MODEL_011aa1ddde474893bd19e9c883819052",
       "style": "IPY_MODEL_64f008f1a54f4c919a6901c1411e4234"
      }
     },
     "6117f833218a4c49837bdfb9bc5e7555": {
      "model_module": "@jupyter-widgets/controls",
      "model_module_version": "1.5.0",
      "model_name": "DropdownModel",
      "state": {
       "_options_labels": [
        "regular",
        "reverse"
       ],
       "description": "variant",
       "index": 0,
       "layout": "IPY_MODEL_0d338d05749548739f9cf154e58a60a6",
       "style": "IPY_MODEL_a304e2a8ecdf4d9795f2be6ef395573a"
      }
     },
     "64f008f1a54f4c919a6901c1411e4234": {
      "model_module": "@jupyter-widgets/controls",
      "model_module_version": "1.5.0",
      "model_name": "DescriptionStyleModel",
      "state": {
       "description_width": ""
      }
     },
     "65946ca852804c3994caded6217e27d2": {
      "model_module": "@jupyter-widgets/base",
      "model_module_version": "1.2.0",
      "model_name": "LayoutModel",
      "state": {}
     },
     "6b1ac87dc0bc4183a0c370f2688afe4c": {
      "model_module": "@jupyter-widgets/controls",
      "model_module_version": "1.5.0",
      "model_name": "IntSliderModel",
      "state": {
       "description": "n",
       "layout": "IPY_MODEL_414cdf2e778b4b66b0aa1986769676dd",
       "max": 16,
       "min": 2,
       "style": "IPY_MODEL_26454fbc8a414734afe3bfbaa3916547",
       "value": 9
      }
     },
     "6de65a3c214446ff8e0edd8e09a27bb1": {
      "model_module": "@jupyter-widgets/base",
      "model_module_version": "1.2.0",
      "model_name": "LayoutModel",
      "state": {}
     },
     "728ce9885e214827b4429ed5a0dd8897": {
      "model_module": "@jupyter-widgets/base",
      "model_module_version": "1.2.0",
      "model_name": "LayoutModel",
      "state": {}
     },
     "7864faba84ee442b9b78a7ab0c802093": {
      "model_module": "@jupyter-widgets/controls",
      "model_module_version": "1.5.0",
      "model_name": "SliderStyleModel",
      "state": {
       "description_width": ""
      }
     },
     "7ba61d887f894d80ba653e61a2cea0c7": {
      "model_module": "@jupyter-widgets/controls",
      "model_module_version": "1.5.0",
      "model_name": "SliderStyleModel",
      "state": {
       "description_width": ""
      }
     },
     "82cf11b526cc4eb981f020442c7d823b": {
      "model_module": "@jupyter-widgets/controls",
      "model_module_version": "1.5.0",
      "model_name": "DescriptionStyleModel",
      "state": {
       "description_width": ""
      }
     },
     "879009bedcc844faa6b9dcfe76b4d33d": {
      "model_module": "@jupyter-widgets/output",
      "model_module_version": "1.0.0",
      "model_name": "OutputModel",
      "state": {
       "layout": "IPY_MODEL_00389f635390497b8ed9feac19aef8bd",
       "outputs": [
        {
         "data": {
          "image/png": "iVBORw0KGgoAAAANSUhEUgAAAtIAAABlCAYAAABgOgROAAAAOXRFWHRTb2Z0d2FyZQBNYXRwbG90bGliIHZlcnNpb24zLjUuMiwgaHR0cHM6Ly9tYXRwbG90bGliLm9yZy8qNh9FAAAACXBIWXMAAA9hAAAPYQGoP6dpAAAD4UlEQVR4nO3cT05bVxjG4WMDcRtiW2Jo4S10GR11T2wqo2yhsww7qYSRpbQlSrjF/PftIKJSJw73FdXJCc8zts2nFyH9ZNmM+r7vCwAAMMi49gEAANAiIQ0AAAEhDQAAASENAAABIQ0AAAEhDQAAASENAACB/fSJ2+22rNfrMp1Oy2g0es6bAACgir7vS9d1ZbFYlPF493vOcUiv1+uyXC7TpwMAwDdrtVqV4+PjnY+JQ3o6nZZSSnn/7m2ZHh6mL/PibNbntU9oUnf2qfYJzfn44bL2CU3648Om9glNOvvrovYJzVl9/Fz7hCb9/unP2ic0Z/X5rPYJTXnY3pff1r/+27q7xCH9+HGO6eFhmb15k77Mi7P3+qr2CU3qf7ytfUJzbibb2ic06fUruyV+OPA3OtSr/evaJzTpYO+g9gnN2RvHufeiPeWjy75sCAAAASENAAABIQ0AAAEhDQAAASENAAABIQ0AAAEhDQAAASENAAABIQ0AAAEhDQAAASENAAABIQ0AAAEhDQAAASENAAABIQ0AAAEhDQAAASENAAABIQ0AAAEhDQAAASENAAABIQ0AAAEhDQAAASENAAABIQ0AAAEhDQAAASENAAABIQ0AAAEhDQAAASENAAABIQ0AAAEhDQAAASENAAABIQ0AAAEhDQAAASENAAABIQ0AAAEhDQAAASENAAABIQ0AAAEhDQAAASENAAABIQ0AAAEhDQAAASENAAABIQ0AAAEhDQAAASENAAABIQ0AAAEhDQAAASENAAABIQ0AAAEhDQAAASENAAABIQ0AAAEhDQAAASENAAABIQ0AAAEhDQAAASENAAABIQ0AAAEhDQAAASENAAABIQ0AAAEhDQAAASENAAABIQ0AAAEhDQAAASENAAABIQ0AAAEhDQAAASENAAABIQ0AAAEhDQAAgf30iX3fl1JK6S4vn+2Yl2Cz2dQ+oUl/X9ltqMubq9onNGlze137hCZd39ltqNv7m9onNOnu4a72Cc152N7XPqEpj3s9tu4ucUifn5+XUkr56edf0pcAAIBvUtd1ZT6f73xMHNJHR0ellFJOT0+/+kP44uLioiyXy7JarcpsNqt9TjPsNpzNMnYbzmYZuw1ns4zdhuv7vnRdVxaLxVcfG4f0ePzl49Xz+dwvZqDZbGazgN2Gs1nGbsPZLGO34WyWsdswT32T2JcNAQAgIKQBACAQh/RkMiknJydlMpk85z3fNZtl7DaczTJ2G85mGbsNZ7OM3f5fo/4p/9sDAAD4Dx/tAACAgJAGAICAkAYAgICQBgCAgJAGAICAkAYAgICQBgCAgJAGAIDAP20WtorWmMPSAAAAAElFTkSuQmCC\n",
          "text/plain": "<Figure size 900x100 with 1 Axes>"
         },
         "metadata": {},
         "output_type": "display_data"
        }
       ]
      }
     },
     "887ee0141b564d25a2db2bd48a20277d": {
      "model_module": "@jupyter-widgets/base",
      "model_module_version": "1.2.0",
      "model_name": "LayoutModel",
      "state": {}
     },
     "8b617ad5592c490b969a7afd4a23f99d": {
      "model_module": "@jupyter-widgets/base",
      "model_module_version": "1.2.0",
      "model_name": "LayoutModel",
      "state": {}
     },
     "922d14993f194ff7b612b54f6026e8d9": {
      "model_module": "@jupyter-widgets/base",
      "model_module_version": "1.2.0",
      "model_name": "LayoutModel",
      "state": {}
     },
     "936f07ecf2cb459eaebc4b7a26de0c46": {
      "model_module": "@jupyter-widgets/base",
      "model_module_version": "1.2.0",
      "model_name": "LayoutModel",
      "state": {}
     },
     "9760c58b189c4fd6a33920afad1796c2": {
      "model_module": "@jupyter-widgets/controls",
      "model_module_version": "1.5.0",
      "model_name": "SliderStyleModel",
      "state": {
       "description_width": ""
      }
     },
     "97d7e8bf32264ccfaad4d777bf1dcaf6": {
      "model_module": "@jupyter-widgets/base",
      "model_module_version": "1.2.0",
      "model_name": "LayoutModel",
      "state": {}
     },
     "9bb5af365ab647489455f8f2112f77f6": {
      "model_module": "@jupyter-widgets/controls",
      "model_module_version": "1.5.0",
      "model_name": "FloatSliderModel",
      "state": {
       "description": "start",
       "layout": "IPY_MODEL_a9970d0e49f34392b5977b4fcf606729",
       "max": 3,
       "step": 0.1,
       "style": "IPY_MODEL_a3743a47669940399d46741f4ecf2423"
      }
     },
     "9deb419abed84a939bd4087249aa433b": {
      "model_module": "@jupyter-widgets/controls",
      "model_module_version": "1.5.0",
      "model_name": "VBoxModel",
      "state": {
       "_dom_classes": [
        "widget-interact"
       ],
       "children": [
        "IPY_MODEL_e2f08497bc6b42cc93ef91e8d08748ff",
        "IPY_MODEL_9bb5af365ab647489455f8f2112f77f6",
        "IPY_MODEL_a3ab25ea38e34d6f8bb22278dff6ee83",
        "IPY_MODEL_450f8378dd7649a2af875a750cc3baff",
        "IPY_MODEL_d57d1ad6127a47568e029b3b8b51482a",
        "IPY_MODEL_b7ac4c8d757b486c84d550b12076a792",
        "IPY_MODEL_2a640f7b7d7646149e7922d440cbeac0",
        "IPY_MODEL_2e2f5450e6ae43c7b93df5b5565134c3",
        "IPY_MODEL_879009bedcc844faa6b9dcfe76b4d33d"
       ],
       "layout": "IPY_MODEL_97d7e8bf32264ccfaad4d777bf1dcaf6"
      }
     },
     "a26ef8ae449d48d98ad22c0aa0676e87": {
      "model_module": "@jupyter-widgets/base",
      "model_module_version": "1.2.0",
      "model_name": "LayoutModel",
      "state": {}
     },
     "a304e2a8ecdf4d9795f2be6ef395573a": {
      "model_module": "@jupyter-widgets/controls",
      "model_module_version": "1.5.0",
      "model_name": "DescriptionStyleModel",
      "state": {
       "description_width": ""
      }
     },
     "a3743a47669940399d46741f4ecf2423": {
      "model_module": "@jupyter-widgets/controls",
      "model_module_version": "1.5.0",
      "model_name": "SliderStyleModel",
      "state": {
       "description_width": ""
      }
     },
     "a3ab25ea38e34d6f8bb22278dff6ee83": {
      "model_module": "@jupyter-widgets/controls",
      "model_module_version": "1.5.0",
      "model_name": "FloatSliderModel",
      "state": {
       "description": "rot",
       "layout": "IPY_MODEL_52b13f21973d4b90b39cb9fcdc5eb2aa",
       "max": 1,
       "min": -1,
       "step": 0.1,
       "style": "IPY_MODEL_f97715c41c5e4758aca7d14e2cc49d45",
       "value": 0.4
      }
     },
     "a404efbe932b4e3f85de748f501e2590": {
      "model_module": "@jupyter-widgets/controls",
      "model_module_version": "1.5.0",
      "model_name": "FloatSliderModel",
      "state": {
       "description": "gamma",
       "layout": "IPY_MODEL_37d8e41fcb194561b5d1611266fa123e",
       "max": 5,
       "step": 0.1,
       "style": "IPY_MODEL_4091b2b2876d4279a7b1d5078f9f1527",
       "value": 1
      }
     },
     "a5a8683457a2461d9f2fc95a02fac542": {
      "model_module": "@jupyter-widgets/base",
      "model_module_version": "1.2.0",
      "model_name": "LayoutModel",
      "state": {}
     },
     "a6bda9fe63764b6a99387040ade9fbaa": {
      "model_module": "@jupyter-widgets/controls",
      "model_module_version": "1.5.0",
      "model_name": "VBoxModel",
      "state": {
       "_dom_classes": [
        "widget-interact"
       ],
       "children": [
        "IPY_MODEL_e5112a40ef694032b19e2cd8824a710c",
        "IPY_MODEL_c7e24cde900149c491b9d984b2c93afd",
        "IPY_MODEL_4837e143e8f14edba4227722e212bd81",
        "IPY_MODEL_a404efbe932b4e3f85de748f501e2590",
        "IPY_MODEL_e1eec838ee36455b8b7369e234f7e99f",
        "IPY_MODEL_1b2d56c3f9b24334baa1efb8b3e2f9cd",
        "IPY_MODEL_c3f31f1e8fff44c39234e7e228a6ae6d",
        "IPY_MODEL_00844ec7bed240968cfd1c4374c36fa4",
        "IPY_MODEL_5193b6d6e5c64dd09e78ece3324ca1ce"
       ],
       "layout": "IPY_MODEL_3cdda2e1a43746d7a71b3fb57ec2dbe4"
      }
     },
     "a9970d0e49f34392b5977b4fcf606729": {
      "model_module": "@jupyter-widgets/base",
      "model_module_version": "1.2.0",
      "model_name": "LayoutModel",
      "state": {}
     },
     "aa1e4644b36f4ae8ac53b608dceca25f": {
      "model_module": "@jupyter-widgets/controls",
      "model_module_version": "1.5.0",
      "model_name": "FloatSliderModel",
      "state": {
       "description": "desat",
       "layout": "IPY_MODEL_65946ca852804c3994caded6217e27d2",
       "max": 1,
       "step": 0.1,
       "style": "IPY_MODEL_4e65b22c8aaf4a24af11b4cc82fb3443",
       "value": 1
      }
     },
     "aaf2aa4ad8af4865b5d4aaa9204fc482": {
      "model_module": "@jupyter-widgets/controls",
      "model_module_version": "1.5.0",
      "model_name": "DropdownModel",
      "state": {
       "_options_labels": [
        "RdBu",
        "RdGy",
        "PRGn",
        "PiYG",
        "BrBG",
        "RdYlBu",
        "RdYlGn",
        "Spectral"
       ],
       "description": "name",
       "index": 0,
       "layout": "IPY_MODEL_6de65a3c214446ff8e0edd8e09a27bb1",
       "style": "IPY_MODEL_529d97028ed14eb69c5d6d9b5a0dc2db"
      }
     },
     "b3acfa242b7f4d479cf1c6037f37410a": {
      "model_module": "@jupyter-widgets/controls",
      "model_module_version": "1.5.0",
      "model_name": "SliderStyleModel",
      "state": {
       "description_width": ""
      }
     },
     "b4837a2fd48b4761ba90843ea67235be": {
      "model_module": "@jupyter-widgets/base",
      "model_module_version": "1.2.0",
      "model_name": "LayoutModel",
      "state": {}
     },
     "b7ac4c8d757b486c84d550b12076a792": {
      "model_module": "@jupyter-widgets/controls",
      "model_module_version": "1.5.0",
      "model_name": "FloatSliderModel",
      "state": {
       "description": "light",
       "layout": "IPY_MODEL_3838971b88504f47bbf68721bccfef55",
       "max": 1,
       "step": 0.1,
       "style": "IPY_MODEL_9760c58b189c4fd6a33920afad1796c2",
       "value": 0.85
      }
     },
     "b7cf5f4064a042f1afb72915aeae80c8": {
      "model_module": "@jupyter-widgets/controls",
      "model_module_version": "1.5.0",
      "model_name": "DescriptionStyleModel",
      "state": {
       "description_width": ""
      }
     },
     "c3c032f86e3d42b8ad372bc68f6e0e6a": {
      "model_module": "@jupyter-widgets/output",
      "model_module_version": "1.0.0",
      "model_name": "OutputModel",
      "state": {
       "layout": "IPY_MODEL_e4d9a0fa0797497884eedd2a99ba2ade",
       "outputs": [
        {
         "data": {
          "image/png": "iVBORw0KGgoAAAANSUhEUgAAAtIAAABlCAYAAABgOgROAAAAOXRFWHRTb2Z0d2FyZQBNYXRwbG90bGliIHZlcnNpb24zLjUuMiwgaHR0cHM6Ly9tYXRwbG90bGliLm9yZy8qNh9FAAAACXBIWXMAAA9hAAAPYQGoP6dpAAAD8UlEQVR4nO3cQW5bVRiG4WM31K0bX0thZmwJKZ0yQGIDCDbDKrIRFsAK2AAbYMKQCGJkMULITpvGbX07QMAEmdxPQaeHPM/42vr0R4peWU5Gfd/3BQAAGGRcewAAALRISAMAQEBIAwBAQEgDAEBASAMAQEBIAwBAQEgDAEDgJH3h4XAom82mzGazMhqN7nMTAABU0fd92e12ZbFYlPH4+GfOcUhvNpuyWq3SlwMAwHtrvV6X5XJ59Jk4pGezWSmllK8/fF6m40fp2zw4z7/8uPaEJn30+ae1JzRn+tkXtSc06XbxSe0JTfrx933tCc357uffak9o0rff/1p7QnN++sHNhjjsb8ov33z1V+seE4f0n1/nmI4fCekBTh9/UHtCk7qnT2pPaM709FntCU267braE5p0+lZID/Xk2evaE5p08nRXe0Jzxo+ntSc06S5fXfbHhgAAEBDSAAAQENIAABAQ0gAAEBDSAAAQENIAABAQ0gAAEBDSAAAQENIAABAQ0gAAEBDSAAAQENIAABAQ0gAAEBDSAAAQENIAABAQ0gAAEBDSAAAQENIAABAQ0gAAEBDSAAAQENIAABAQ0gAAEBDSAAAQENIAABAQ0gAAEBDSAAAQENIAABAQ0gAAEBDSAAAQENIAABAQ0gAAEBDSAAAQENIAABAQ0gAAEBDSAAAQENIAABAQ0gAAEBDSAAAQENIAABAQ0gAAEBDSAAAQENIAABAQ0gAAEBDSAAAQENIAABAQ0gAAEBDSAAAQENIAABAQ0gAAEBDSAAAQENIAABAQ0gAAEBDSAAAQENIAABAQ0gAAEBDSAAAQENIAABAQ0gAAEBDSAAAQENIAABAQ0gAAEBDSAAAQENIAABAQ0gAAEBDSAAAQENIAABAQ0gAAEBDSAAAQENIAABAQ0gAAEBDSAAAQENIAABAQ0gAAEDhJX9j3fSmllJeHt/c25iG43r+uPaFJ25tXtSc05831i9oTmnS73dae0KTr3b72hOa8erGrPaFJb278bhvqsH9Ze0JTDvubUsrfrXvMqL/LU//g8vKynJ+fJy8FAID32nq9Lsvl8ugz8SfSZ2dnpZRSrq6uynw+T9/mQdlut2W1WpX1el26rqs9pxnuNpybZdxtODfLuNtwbpZxt+H6vi+73a4sFot/fTYO6fH4j69Xz+dzP5iBuq5zs4C7DedmGXcbzs0y7jacm2XcbZi7fkjsjw0BACAgpAEAIBCH9GQyKRcXF2Uymdznnv81N8u423BulnG34dws427DuVnG3f5b8X/tAACAh8xXOwAAICCkAQAgIKQBACAgpAEAICCkAQAgIKQBACAgpAEAICCkAQAg8A4ftKwE+dGK3gAAAABJRU5ErkJggg==\n",
          "text/plain": "<Figure size 900x100 with 1 Axes>"
         },
         "metadata": {},
         "output_type": "display_data"
        }
       ]
      }
     },
     "c3f31f1e8fff44c39234e7e228a6ae6d": {
      "model_module": "@jupyter-widgets/controls",
      "model_module_version": "1.5.0",
      "model_name": "FloatSliderModel",
      "state": {
       "description": "dark",
       "layout": "IPY_MODEL_e3e32488d3644eb69bf6162e71d1abf1",
       "max": 1,
       "step": 0.1,
       "style": "IPY_MODEL_7ba61d887f894d80ba653e61a2cea0c7",
       "value": 0.15
      }
     },
     "c7e24cde900149c491b9d984b2c93afd": {
      "model_module": "@jupyter-widgets/controls",
      "model_module_version": "1.5.0",
      "model_name": "FloatSliderModel",
      "state": {
       "description": "start",
       "layout": "IPY_MODEL_b4837a2fd48b4761ba90843ea67235be",
       "max": 3,
       "step": 0.1,
       "style": "IPY_MODEL_ece7566c337f44a2ac440487427ca3d9"
      }
     },
     "d06cc2cf55fc4de3a4ac3d12b02dea65": {
      "model_module": "@jupyter-widgets/controls",
      "model_module_version": "1.5.0",
      "model_name": "IntSliderModel",
      "state": {
       "description": "n",
       "layout": "IPY_MODEL_a26ef8ae449d48d98ad22c0aa0676e87",
       "max": 16,
       "min": 2,
       "style": "IPY_MODEL_7864faba84ee442b9b78a7ab0c802093",
       "value": 16
      }
     },
     "d21a0839675247a0815f27c4ccbeecaf": {
      "model_module": "@jupyter-widgets/controls",
      "model_module_version": "1.5.0",
      "model_name": "VBoxModel",
      "state": {
       "_dom_classes": [
        "widget-interact"
       ],
       "children": [
        "IPY_MODEL_f62688df82cb44768e96a637b58e7950",
        "IPY_MODEL_d06cc2cf55fc4de3a4ac3d12b02dea65",
        "IPY_MODEL_aa1e4644b36f4ae8ac53b608dceca25f",
        "IPY_MODEL_5c73be76dcff47509679abf0aeb7024e",
        "IPY_MODEL_2695fd37abb943e6aa987fa4011c8573"
       ],
       "layout": "IPY_MODEL_d7d4333a8dae4051b5d53fc7bb636e70"
      }
     },
     "d57d1ad6127a47568e029b3b8b51482a": {
      "model_module": "@jupyter-widgets/controls",
      "model_module_version": "1.5.0",
      "model_name": "FloatSliderModel",
      "state": {
       "description": "hue",
       "layout": "IPY_MODEL_263d9dd27a7241019b26bf57ac47c472",
       "max": 1,
       "step": 0.1,
       "style": "IPY_MODEL_de2f3f2154234d2fbbedc0eaf921b4c7",
       "value": 0.8
      }
     },
     "d7d4333a8dae4051b5d53fc7bb636e70": {
      "model_module": "@jupyter-widgets/base",
      "model_module_version": "1.2.0",
      "model_name": "LayoutModel",
      "state": {}
     },
     "d8b0710e1bf148c2b946714ba47d11ce": {
      "model_module": "@jupyter-widgets/controls",
      "model_module_version": "1.5.0",
      "model_name": "SliderStyleModel",
      "state": {
       "description_width": ""
      }
     },
     "dd2670c8d04b4d7aab1b26fe5bcea5e1": {
      "model_module": "@jupyter-widgets/base",
      "model_module_version": "1.2.0",
      "model_name": "LayoutModel",
      "state": {}
     },
     "de2f3f2154234d2fbbedc0eaf921b4c7": {
      "model_module": "@jupyter-widgets/controls",
      "model_module_version": "1.5.0",
      "model_name": "SliderStyleModel",
      "state": {
       "description_width": ""
      }
     },
     "e1eec838ee36455b8b7369e234f7e99f": {
      "model_module": "@jupyter-widgets/controls",
      "model_module_version": "1.5.0",
      "model_name": "FloatSliderModel",
      "state": {
       "description": "hue",
       "layout": "IPY_MODEL_887ee0141b564d25a2db2bd48a20277d",
       "max": 1,
       "step": 0.1,
       "style": "IPY_MODEL_b3acfa242b7f4d479cf1c6037f37410a",
       "value": 0.8
      }
     },
     "e2f08497bc6b42cc93ef91e8d08748ff": {
      "model_module": "@jupyter-widgets/controls",
      "model_module_version": "1.5.0",
      "model_name": "IntSliderModel",
      "state": {
       "description": "n_colors",
       "layout": "IPY_MODEL_1fe50cc178ba4b30be774d143cf56e01",
       "max": 16,
       "min": 2,
       "style": "IPY_MODEL_43a2d85a06374bd8b2baaf2642c6f834",
       "value": 9
      }
     },
     "e3e32488d3644eb69bf6162e71d1abf1": {
      "model_module": "@jupyter-widgets/base",
      "model_module_version": "1.2.0",
      "model_name": "LayoutModel",
      "state": {}
     },
     "e4d9a0fa0797497884eedd2a99ba2ade": {
      "model_module": "@jupyter-widgets/base",
      "model_module_version": "1.2.0",
      "model_name": "LayoutModel",
      "state": {}
     },
     "e5112a40ef694032b19e2cd8824a710c": {
      "model_module": "@jupyter-widgets/controls",
      "model_module_version": "1.5.0",
      "model_name": "IntSliderModel",
      "state": {
       "description": "n_colors",
       "layout": "IPY_MODEL_936f07ecf2cb459eaebc4b7a26de0c46",
       "max": 16,
       "min": 2,
       "style": "IPY_MODEL_545dc602872240c9b07f7c799a284cc9",
       "value": 9
      }
     },
     "e515cd85cf854777a6dfdde5e4fc9cd5": {
      "model_module": "@jupyter-widgets/base",
      "model_module_version": "1.2.0",
      "model_name": "LayoutModel",
      "state": {}
     },
     "e5b028419d6a4904a6263628f3cfa505": {
      "model_module": "@jupyter-widgets/base",
      "model_module_version": "1.2.0",
      "model_name": "LayoutModel",
      "state": {}
     },
     "ea5fe2dc8e5445cba241bf712f5073de": {
      "model_module": "@jupyter-widgets/controls",
      "model_module_version": "1.5.0",
      "model_name": "SliderStyleModel",
      "state": {
       "description_width": ""
      }
     },
     "ece7566c337f44a2ac440487427ca3d9": {
      "model_module": "@jupyter-widgets/controls",
      "model_module_version": "1.5.0",
      "model_name": "SliderStyleModel",
      "state": {
       "description_width": ""
      }
     },
     "f62688df82cb44768e96a637b58e7950": {
      "model_module": "@jupyter-widgets/controls",
      "model_module_version": "1.5.0",
      "model_name": "DropdownModel",
      "state": {
       "_options_labels": [
        "RdBu",
        "RdGy",
        "PRGn",
        "PiYG",
        "BrBG",
        "RdYlBu",
        "RdYlGn",
        "Spectral"
       ],
       "description": "name",
       "index": 0,
       "layout": "IPY_MODEL_dd2670c8d04b4d7aab1b26fe5bcea5e1",
       "style": "IPY_MODEL_265bd9ce00e4490a95b64452e1e4bed1"
      }
     },
     "f97715c41c5e4758aca7d14e2cc49d45": {
      "model_module": "@jupyter-widgets/controls",
      "model_module_version": "1.5.0",
      "model_name": "SliderStyleModel",
      "state": {
       "description_width": ""
      }
     }
    },
    "version_major": 2,
    "version_minor": 0
   }
  }
 },
 "nbformat": 4,
 "nbformat_minor": 5
}
